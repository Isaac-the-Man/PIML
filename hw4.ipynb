{
 "cells": [
  {
   "cell_type": "markdown",
   "id": "b2b7a733-6e24-4bfd-8ff7-e631aa25fe35",
   "metadata": {},
   "source": [
    "# HW4: Recurrent Neural Network\n",
    "Yu-Kai \"Steven\" Wang"
   ]
  },
  {
   "cell_type": "code",
   "execution_count": 1,
   "id": "d3066c8d-0816-4370-a51e-2fde6646ada1",
   "metadata": {},
   "outputs": [],
   "source": [
    "import torch\n",
    "import torch.nn as nn\n",
    "import torch.nn.functional as F\n",
    "import torch.optim as optim\n",
    "from torch.utils.data import Dataset, DataLoader\n",
    "import numpy as np\n",
    "from tqdm import tqdm\n",
    "import pickle\n",
    "from matplotlib import pyplot as plt"
   ]
  },
  {
   "cell_type": "markdown",
   "id": "e90d7162-9c7c-4049-9646-6c8a0607ff5f",
   "metadata": {},
   "source": [
    "## Task 1: RNN\n",
    "\n",
    "For this homework I am using the \"Daily minimum temperatures in Melbourne, Australia, 1981-1990\" dataset. Download [here](https://raw.githubusercontent.com/jbrownlee/Datasets/master/daily-min-temperatures.csv).\n",
    "\n",
    "The problem I would like to solve is given the temperature of the past 120 days, predict next day's minimum temperature. The problem requires a sequential model since a normal feed foward network will disregard the order of the input. Date will not be used as a feature to simplify the process.\n",
    "\n",
    "For the train / valid / test split, I have manually split the CSV file into three files (80% / 10% / 10%) correspondly. \n",
    "\n",
    "I will be using PyTorch for the implementation of this model."
   ]
  },
  {
   "cell_type": "markdown",
   "id": "44273da5-3ba3-4363-a1d2-96c2240cf0c5",
   "metadata": {},
   "source": [
    "**Dataset**"
   ]
  },
  {
   "cell_type": "markdown",
   "id": "915bfce3-e7f3-4b74-bcc4-c501ebc6c4a4",
   "metadata": {},
   "source": [
    "Read data from CSV file. Temperature data is normalized. "
   ]
  },
  {
   "cell_type": "code",
   "execution_count": 3,
   "id": "0c2a1c98-f193-4e08-824b-763fd3931550",
   "metadata": {},
   "outputs": [],
   "source": [
    "class MinDailyTempDataset(Dataset):\n",
    "    def __init__(self, filename, L, norm = False):\n",
    "        super().__init__()\n",
    "        self.L = L\n",
    "        self.seq = self.readcsv(filename)\n",
    "        if norm:\n",
    "            # normalize data\n",
    "            self.seq = self.seq / torch.max(self.seq)\n",
    "    \n",
    "    def readcsv(self, filename):\n",
    "        sequence = []\n",
    "        isFirst = True\n",
    "        with open(filename) as f:\n",
    "            for row in f:\n",
    "                if isFirst:\n",
    "                    isFirst = False\n",
    "                    continue\n",
    "                data = float(row.strip().split(',')[1])\n",
    "                sequence.append(data)\n",
    "        return torch.tensor(sequence)\n",
    "    \n",
    "    def __getitem__(self, idx):\n",
    "        return self.seq[idx: idx + self.L].unsqueeze(-1), self.seq[idx + self.L].unsqueeze(-1)\n",
    "        \n",
    "    def __len__(self):\n",
    "        return self.seq.shape[0] - self.L"
   ]
  },
  {
   "cell_type": "code",
   "execution_count": 4,
   "id": "b9d1ecb0-094f-44e7-9c97-f53e548236a6",
   "metadata": {},
   "outputs": [
    {
     "name": "stdout",
     "output_type": "stream",
     "text": [
      "2810 data points in total for training.\n",
      "240 data points in total for validating.\n",
      "240 data points in total for testing.\n"
     ]
    }
   ],
   "source": [
    "frame_size = 120\n",
    "\n",
    "# create train / valid / test dataset\n",
    "train_dataset = MinDailyTempDataset('../data/MIN_DAILY_TEMP/daily-min-temperatures-train.csv', frame_size, norm = True)\n",
    "print(f'{len(train_dataset)} data points in total for training.')\n",
    "valid_dataset = MinDailyTempDataset('../data/MIN_DAILY_TEMP/daily-min-temperatures-valid.csv', frame_size, norm = True)\n",
    "print(f'{len(valid_dataset)} data points in total for validating.')\n",
    "test_dataset = MinDailyTempDataset('../data/MIN_DAILY_TEMP/daily-min-temperatures-test.csv', frame_size, norm = True)\n",
    "print(f'{len(test_dataset)} data points in total for testing.')"
   ]
  },
  {
   "cell_type": "markdown",
   "id": "00c72613-2167-4991-9c52-40b560217f05",
   "metadata": {},
   "source": [
    "**Data Visualization**"
   ]
  },
  {
   "cell_type": "markdown",
   "id": "db94741c-e6e7-4fc0-921b-c74cd192eb2b",
   "metadata": {},
   "source": [
    "Plot of training dataset"
   ]
  },
  {
   "cell_type": "code",
   "execution_count": 5,
   "id": "df8e654b-cb91-451a-b686-011593934b6f",
   "metadata": {},
   "outputs": [
    {
     "data": {
      "image/png": "[encoded data removed]",
      "text/plain": [
       "<Figure size 432x288 with 1 Axes>"
      ]
     },
     "metadata": {
      "needs_background": "light"
     },
     "output_type": "display_data"
    }
   ],
   "source": [
    "plt.plot(np.arange(train_dataset.seq.shape[0]), train_dataset.seq)\n",
    "plt.title('Daily minimum temperatures in Melbourne, Australia, 1981-1990')\n",
    "plt.xlabel('day')\n",
    "plt.ylabel('temperature')\n",
    "plt.show()"
   ]
  },
  {
   "cell_type": "markdown",
   "id": "711ea661-0f01-4b6e-b42c-0f1ce7484317",
   "metadata": {},
   "source": [
    "**Evaluation Metric**\n",
    "\n",
    "For this model I will be using the MSE loss as the evaluation metric."
   ]
  },
  {
   "cell_type": "markdown",
   "id": "48475228-695c-45c1-8711-d3c7617affac",
   "metadata": {},
   "source": [
    "**RNN / GRU / LSTM Model**"
   ]
  },
  {
   "cell_type": "code",
   "execution_count": 6,
   "id": "a5bfc8a3-8ccc-4426-9724-b57ebad0e74d",
   "metadata": {},
   "outputs": [],
   "source": [
    "class Model(nn.Module):\n",
    "    '''\n",
    "    Simple RNN model with stacked RNN followed by two linear layers\n",
    "    '''\n",
    "    def __init__(self, L, hidden_size = 32, hidden_size_2 = 64, num_layers = 2, drop = 0, mode = 'RNN'):\n",
    "        super().__init__()\n",
    "        if mode == 'GRU':\n",
    "            self.rnn = nn.GRU(input_size = 1, hidden_size = hidden_size, num_layers = num_layers, batch_first = True, dropout = drop)\n",
    "        elif mode == 'LSTM':\n",
    "            self.rnn = nn.LSTM(input_size = 1, hidden_size = hidden_size, num_layers = num_layers, batch_first = True, dropout = drop)\n",
    "        else: # default to RNN\n",
    "            self.rnn = nn.RNN(input_size = 1, hidden_size = hidden_size, num_layers = num_layers, batch_first = True, dropout = drop)\n",
    "        self.flatten = nn.Flatten()\n",
    "        self.f1 = nn.Linear(L * hidden_size, hidden_size_2)\n",
    "        self.f2 = nn.Linear(hidden_size_2, 1)\n",
    "    \n",
    "    def forward(self, x):\n",
    "        out, hn = self.rnn(x)\n",
    "        x = self.flatten(out)\n",
    "        x = self.f1(x)\n",
    "        x = F.relu(x)\n",
    "        x = self.f2(x)\n",
    "        return x"
   ]
  },
  {
   "cell_type": "markdown",
   "id": "a3c19315-27fb-41bf-a3a9-06c5bed56b82",
   "metadata": {},
   "source": [
    "**Training RNN**"
   ]
  },
  {
   "cell_type": "code",
   "execution_count": 7,
   "id": "ec54e37c-1747-43c8-8a0e-489be666bdb5",
   "metadata": {},
   "outputs": [
    {
     "data": {
      "text/plain": [
       "Model(\n",
       "  (rnn): RNN(1, 64, num_layers=3, batch_first=True, dropout=0.5)\n",
       "  (flatten): Flatten(start_dim=1, end_dim=-1)\n",
       "  (f1): Linear(in_features=7680, out_features=64, bias=True)\n",
       "  (f2): Linear(in_features=64, out_features=1, bias=True)\n",
       ")"
      ]
     },
     "execution_count": 7,
     "metadata": {},
     "output_type": "execute_result"
    }
   ],
   "source": [
    "device = f'cuda:0' if torch.cuda.is_available() else 'cpu'\n",
    "batch_size = 16\n",
    "\n",
    "modelRNN = Model(frame_size, hidden_size = 64, hidden_size_2 = 64, num_layers = 3, drop = 0.5, mode = 'RNN')\n",
    "modelRNN.to(device)\n",
    "train_loader = DataLoader(train_dataset, batch_size=batch_size, shuffle=True)\n",
    "optimizer = optim.Adam(modelRNN.parameters(), lr = 0.001)\n",
    "modelRNN.train()"
   ]
  },
  {
   "cell_type": "code",
   "execution_count": 8,
   "id": "c22cbae1-b799-4f31-bb89-ae69dcdae047",
   "metadata": {
    "tags": []
   },
   "outputs": [
    {
     "name": "stdout",
     "output_type": "stream",
     "text": [
      "Epoch 0, train loss: 0.25977685127872974\n",
      "Epoch 1, train loss: 0.1562211506825406\n",
      "Epoch 2, train loss: 0.13820251659490168\n",
      "Epoch 3, train loss: 0.13474653774756007\n",
      "Epoch 4, train loss: 0.1283689314732328\n",
      "Epoch 5, train loss: 0.12107354354520794\n",
      "Epoch 6, train loss: 0.11469134136859793\n",
      "Epoch 7, train loss: 0.12074937266879715\n",
      "Epoch 8, train loss: 0.11108820082154125\n",
      "Epoch 9, train loss: 0.10648922811378725\n",
      "Epoch 10, train loss: 0.11017910494410899\n",
      "Epoch 11, train loss: 0.10613184451358393\n",
      "Epoch 12, train loss: 0.10533797178504756\n",
      "Epoch 13, train loss: 0.10735938019206515\n",
      "Epoch 14, train loss: 0.10397425886185374\n",
      "Epoch 15, train loss: 0.10411487134115305\n",
      "Epoch 16, train loss: 0.10471982973103877\n",
      "Epoch 17, train loss: 0.10206359061703552\n",
      "Epoch 18, train loss: 0.10447922105959151\n",
      "Epoch 19, train loss: 0.10034499490575399\n",
      "Epoch 20, train loss: 0.10201481795229483\n",
      "Epoch 21, train loss: 0.10140605106425937\n",
      "Epoch 22, train loss: 0.10185496610938571\n",
      "Epoch 23, train loss: 0.10129174169560429\n",
      "Epoch 24, train loss: 0.09974323876667768\n",
      "Epoch 25, train loss: 0.10022731608478352\n",
      "Epoch 26, train loss: 0.10053266887553036\n",
      "Epoch 27, train loss: 0.10002021919353865\n",
      "Epoch 28, train loss: 0.0993602509261109\n",
      "Epoch 29, train loss: 0.09893936570733786\n",
      "Epoch 30, train loss: 0.09863006422528997\n",
      "Epoch 31, train loss: 0.09745206471416168\n",
      "Epoch 32, train loss: 0.09781739077880047\n",
      "Epoch 33, train loss: 0.0978852141124662\n",
      "Epoch 34, train loss: 0.09492489469994325\n",
      "Epoch 35, train loss: 0.0946229259861866\n",
      "Epoch 36, train loss: 0.09348142093222123\n",
      "Epoch 37, train loss: 0.09514404821675271\n",
      "Epoch 38, train loss: 0.09106595696357545\n",
      "Epoch 39, train loss: 0.09428507275879383\n",
      "Epoch 40, train loss: 0.09411320961953606\n",
      "Epoch 41, train loss: 0.0879352469346486\n",
      "Epoch 42, train loss: 0.0876229574350873\n",
      "Epoch 43, train loss: 0.08812668392783962\n",
      "Epoch 44, train loss: 0.08902745296654757\n",
      "Epoch 45, train loss: 0.08771940915903542\n",
      "Epoch 46, train loss: 0.08611080603441224\n",
      "Epoch 47, train loss: 0.08252304316556547\n",
      "Epoch 48, train loss: 0.08429828399675898\n",
      "Epoch 49, train loss: 0.08198957567219622\n",
      "Epoch 50, train loss: 0.08548493660055101\n",
      "Epoch 51, train loss: 0.08205752694630064\n",
      "Epoch 52, train loss: 0.0815457530261483\n",
      "Epoch 53, train loss: 0.08149800945830066\n",
      "Epoch 54, train loss: 0.08126129895390477\n",
      "Epoch 55, train loss: 0.07994923568912782\n",
      "Epoch 56, train loss: 0.07918999433604768\n",
      "Epoch 57, train loss: 0.07909732432744931\n",
      "Epoch 58, train loss: 0.0773294217797229\n",
      "Epoch 59, train loss: 0.07884339285374153\n",
      "Epoch 60, train loss: 0.07231012558622751\n",
      "Epoch 61, train loss: 0.07337482317961985\n",
      "Epoch 62, train loss: 0.07234087835240643\n",
      "Epoch 63, train loss: 0.07032459239417221\n",
      "Epoch 64, train loss: 0.06952484455541708\n",
      "Epoch 65, train loss: 0.07066954132460523\n",
      "Epoch 66, train loss: 0.0668954359862255\n",
      "Epoch 67, train loss: 0.06801492195518222\n",
      "Epoch 68, train loss: 0.06390803019166924\n",
      "Epoch 69, train loss: 0.06350381257652771\n",
      "Epoch 70, train loss: 0.06526301304984372\n",
      "Epoch 71, train loss: 0.06416173326579155\n",
      "Epoch 72, train loss: 0.060830050431832206\n",
      "Epoch 73, train loss: 0.0581872089242097\n",
      "Epoch 74, train loss: 0.05953568902623374\n",
      "Epoch 75, train loss: 0.057267084521299694\n",
      "Epoch 76, train loss: 0.05668453218822833\n",
      "Epoch 77, train loss: 0.055726340811816044\n",
      "Epoch 78, train loss: 0.05284576783014927\n",
      "Epoch 79, train loss: 0.05379656505829189\n",
      "Epoch 80, train loss: 0.05213951805490069\n",
      "Epoch 81, train loss: 0.05042394374322612\n",
      "Epoch 82, train loss: 0.04967162898537936\n",
      "Epoch 83, train loss: 0.047854501666733995\n",
      "Epoch 84, train loss: 0.04904479399556294\n",
      "Epoch 85, train loss: 0.04910763067891821\n",
      "Epoch 86, train loss: 0.04535443303757347\n",
      "Epoch 87, train loss: 0.04343059227539925\n",
      "Epoch 88, train loss: 0.04437360454176087\n",
      "Epoch 89, train loss: 0.04398395819589496\n",
      "Epoch 90, train loss: 0.04226069332798943\n",
      "Epoch 91, train loss: 0.042370347924588714\n",
      "Epoch 92, train loss: 0.04183200070110615\n",
      "Epoch 93, train loss: 0.0423176248659729\n",
      "Epoch 94, train loss: 0.03931868825748097\n",
      "Epoch 95, train loss: 0.040114609691954684\n",
      "Epoch 96, train loss: 0.039883656791062094\n",
      "Epoch 97, train loss: 0.039155194695922546\n",
      "Epoch 98, train loss: 0.03836201050580712\n",
      "Epoch 99, train loss: 0.03862942681007553\n"
     ]
    }
   ],
   "source": [
    "loss_rnn = []\n",
    "for epoch in range(100):\n",
    "    sum_loss = 0\n",
    "    for b_idx, (data, labels) in enumerate(train_loader):\n",
    "        \n",
    "        # zero out gradient\n",
    "        optimizer.zero_grad()\n",
    "\n",
    "        # send batch to device\n",
    "        data, labels = data.to(device), labels.to(device)\n",
    "\n",
    "        # foward pass\n",
    "        pred = modelRNN(data)\n",
    "\n",
    "        # cross entropy loss\n",
    "        loss = F.mse_loss(pred, labels)\n",
    "\n",
    "        # back propagation\n",
    "        loss.backward()\n",
    "        sum_loss += loss.item()\n",
    "        optimizer.step()\n",
    "    print(f'Epoch {epoch}, train loss: {sum_loss / batch_size}')\n",
    "    loss_rnn.append(sum_loss / batch_size)"
   ]
  },
  {
   "cell_type": "markdown",
   "id": "09121d50-805a-4e53-a55f-689f613e153b",
   "metadata": {},
   "source": [
    "**Validation loss**"
   ]
  },
  {
   "cell_type": "code",
   "execution_count": 9,
   "id": "db79ab72-6aab-4e7c-9a14-6f14c1e0e35a",
   "metadata": {},
   "outputs": [
    {
     "name": "stdout",
     "output_type": "stream",
     "text": [
      "Validation loss: 0.01595030474709347\n"
     ]
    }
   ],
   "source": [
    "valid_loader = DataLoader(valid_dataset, batch_size=batch_size, shuffle=True)\n",
    "modelRNN.eval()\n",
    "sum_loss = 0\n",
    "for b_idx, (data, labels) in enumerate(valid_loader):\n",
    "\n",
    "    # send batch to device\n",
    "    data, labels = data.to(device), labels.to(device)\n",
    "\n",
    "    # foward pass\n",
    "    pred = modelRNN(data)\n",
    "\n",
    "    # cross entropy loss\n",
    "    loss = F.mse_loss(pred, labels)\n",
    "\n",
    "    sum_loss += loss.item()\n",
    "print(f'Validation loss: {sum_loss / batch_size}')"
   ]
  },
  {
   "cell_type": "markdown",
   "id": "9c2fa39d-a656-40a1-943c-eec6fd7a9920",
   "metadata": {},
   "source": [
    "**Test loss**"
   ]
  },
  {
   "cell_type": "code",
   "execution_count": 10,
   "id": "6530a19d-ebbc-4d2a-b5f7-f81e84b8af36",
   "metadata": {},
   "outputs": [
    {
     "name": "stdout",
     "output_type": "stream",
     "text": [
      "Test loss: 0.017284068395383656\n"
     ]
    }
   ],
   "source": [
    "test_loader = DataLoader(test_dataset, batch_size=batch_size, shuffle=True)\n",
    "modelRNN.eval()\n",
    "sum_loss = 0\n",
    "for b_idx, (data, labels) in enumerate(test_loader):\n",
    "\n",
    "    # send batch to device\n",
    "    data, labels = data.to(device), labels.to(device)\n",
    "\n",
    "    # foward pass\n",
    "    pred = modelRNN(data)\n",
    "\n",
    "    # cross entropy loss\n",
    "    loss = F.mse_loss(pred, labels)\n",
    "\n",
    "    sum_loss += loss.item()\n",
    "print(f'Test loss: {sum_loss / batch_size}')"
   ]
  },
  {
   "cell_type": "markdown",
   "id": "f28b0dcd-7f6b-4639-85bb-bfe9e27fc389",
   "metadata": {},
   "source": [
    "**Training GRU**"
   ]
  },
  {
   "cell_type": "code",
   "execution_count": 11,
   "id": "7503cf97-2aaa-46b6-8e6b-be50ccc699f8",
   "metadata": {},
   "outputs": [
    {
     "data": {
      "text/plain": [
       "Model(\n",
       "  (rnn): GRU(1, 64, num_layers=3, batch_first=True, dropout=0.5)\n",
       "  (flatten): Flatten(start_dim=1, end_dim=-1)\n",
       "  (f1): Linear(in_features=7680, out_features=64, bias=True)\n",
       "  (f2): Linear(in_features=64, out_features=1, bias=True)\n",
       ")"
      ]
     },
     "execution_count": 11,
     "metadata": {},
     "output_type": "execute_result"
    }
   ],
   "source": [
    "device = f'cuda:0' if torch.cuda.is_available() else 'cpu'\n",
    "batch_size = 16\n",
    "\n",
    "modelGRU = Model(frame_size, hidden_size = 64, hidden_size_2 = 64, num_layers = 3, drop = 0.5, mode = 'GRU')\n",
    "modelGRU.to(device)\n",
    "train_loader = DataLoader(train_dataset, batch_size=batch_size, shuffle=True)\n",
    "optimizer = optim.Adam(modelGRU.parameters(), lr = 0.001)\n",
    "modelGRU.train()"
   ]
  },
  {
   "cell_type": "code",
   "execution_count": 12,
   "id": "c4eacbc7-ba53-4591-9c3d-08dd47811a8f",
   "metadata": {},
   "outputs": [
    {
     "name": "stdout",
     "output_type": "stream",
     "text": [
      "Epoch 0, train loss: 0.23831102397525683\n",
      "Epoch 1, train loss: 0.1465976214967668\n",
      "Epoch 2, train loss: 0.14429895325156394\n",
      "Epoch 3, train loss: 0.14157268452981953\n",
      "Epoch 4, train loss: 0.13555476479814388\n",
      "Epoch 5, train loss: 0.13338578585535288\n",
      "Epoch 6, train loss: 0.13294743941514753\n",
      "Epoch 7, train loss: 0.12844943834352307\n",
      "Epoch 8, train loss: 0.12166788714239374\n",
      "Epoch 9, train loss: 0.11781367019284517\n",
      "Epoch 10, train loss: 0.11426387092797086\n",
      "Epoch 11, train loss: 0.10811277480388526\n",
      "Epoch 12, train loss: 0.10573235245828982\n",
      "Epoch 13, train loss: 0.10708516398153733\n",
      "Epoch 14, train loss: 0.10631462096353061\n",
      "Epoch 15, train loss: 0.10033407554146834\n",
      "Epoch 16, train loss: 0.10094224562635645\n",
      "Epoch 17, train loss: 0.10169728414621204\n",
      "Epoch 18, train loss: 0.1034298488375498\n",
      "Epoch 19, train loss: 0.10374469881935511\n",
      "Epoch 20, train loss: 0.09812068881001323\n",
      "Epoch 21, train loss: 0.10786914551863447\n",
      "Epoch 22, train loss: 0.10176358696480747\n",
      "Epoch 23, train loss: 0.09902273818443064\n",
      "Epoch 24, train loss: 0.09902766735467594\n",
      "Epoch 25, train loss: 0.09901518667174969\n",
      "Epoch 26, train loss: 0.09593826247146353\n",
      "Epoch 27, train loss: 0.09822592604905367\n",
      "Epoch 28, train loss: 0.0984235825453652\n",
      "Epoch 29, train loss: 0.0958682251512073\n",
      "Epoch 30, train loss: 0.09525461880548391\n",
      "Epoch 31, train loss: 0.09311425338091794\n",
      "Epoch 32, train loss: 0.09068370528984815\n",
      "Epoch 33, train loss: 0.08974473021226004\n",
      "Epoch 34, train loss: 0.08736562870035414\n",
      "Epoch 35, train loss: 0.08382531999086495\n",
      "Epoch 36, train loss: 0.08323483107960783\n",
      "Epoch 37, train loss: 0.07803397077077534\n",
      "Epoch 38, train loss: 0.07509929942170857\n",
      "Epoch 39, train loss: 0.07428620383871021\n",
      "Epoch 40, train loss: 0.06961411239171866\n",
      "Epoch 41, train loss: 0.06462459865724668\n",
      "Epoch 42, train loss: 0.061956537909281906\n",
      "Epoch 43, train loss: 0.06116713684605202\n",
      "Epoch 44, train loss: 0.057177330170816276\n",
      "Epoch 45, train loss: 0.05446473029587651\n",
      "Epoch 46, train loss: 0.05276799966668477\n",
      "Epoch 47, train loss: 0.04806806029955624\n",
      "Epoch 48, train loss: 0.04590981988440035\n",
      "Epoch 49, train loss: 0.0434300924098352\n",
      "Epoch 50, train loss: 0.04195964964310406\n",
      "Epoch 51, train loss: 0.03873100319469813\n",
      "Epoch 52, train loss: 0.03617528277027304\n",
      "Epoch 53, train loss: 0.035127710762026254\n",
      "Epoch 54, train loss: 0.03189828281028895\n",
      "Epoch 55, train loss: 0.02959137323705363\n",
      "Epoch 56, train loss: 0.027319822107529035\n",
      "Epoch 57, train loss: 0.02608788528414152\n",
      "Epoch 58, train loss: 0.028376013433444314\n",
      "Epoch 59, train loss: 0.025303544662165223\n",
      "Epoch 60, train loss: 0.0241541231116571\n",
      "Epoch 61, train loss: 0.022178612598509062\n",
      "Epoch 62, train loss: 0.021786997156596044\n",
      "Epoch 63, train loss: 0.020501078970482922\n",
      "Epoch 64, train loss: 0.02041621267562732\n",
      "Epoch 65, train loss: 0.019285392707388382\n",
      "Epoch 66, train loss: 0.019240315650677076\n",
      "Epoch 67, train loss: 0.018095794635883067\n",
      "Epoch 68, train loss: 0.017942614445928484\n",
      "Epoch 69, train loss: 0.017355727060930803\n",
      "Epoch 70, train loss: 0.015497010072067496\n",
      "Epoch 71, train loss: 0.01597104876418598\n",
      "Epoch 72, train loss: 0.015692421455241856\n",
      "Epoch 73, train loss: 0.016050356889536488\n",
      "Epoch 74, train loss: 0.015404160187244997\n",
      "Epoch 75, train loss: 0.01500095931623946\n",
      "Epoch 76, train loss: 0.014437672502026544\n",
      "Epoch 77, train loss: 0.013954428921351791\n",
      "Epoch 78, train loss: 0.014273886587034212\n",
      "Epoch 79, train loss: 0.014101384473178769\n",
      "Epoch 80, train loss: 0.014374682108609704\n",
      "Epoch 81, train loss: 0.014837797760264948\n",
      "Epoch 82, train loss: 0.013423053049336886\n",
      "Epoch 83, train loss: 0.013591783288575243\n",
      "Epoch 84, train loss: 0.01199642158280767\n",
      "Epoch 85, train loss: 0.01210626908687118\n",
      "Epoch 86, train loss: 0.01154031742225925\n",
      "Epoch 87, train loss: 0.011400854422390694\n",
      "Epoch 88, train loss: 0.01313104979635682\n",
      "Epoch 89, train loss: 0.012368281057206332\n",
      "Epoch 90, train loss: 0.011311364693028736\n",
      "Epoch 91, train loss: 0.012122775939133135\n",
      "Epoch 92, train loss: 0.010896794194195536\n",
      "Epoch 93, train loss: 0.011229480669499026\n",
      "Epoch 94, train loss: 0.010951469048450235\n",
      "Epoch 95, train loss: 0.0109925011802261\n",
      "Epoch 96, train loss: 0.010589029432594543\n",
      "Epoch 97, train loss: 0.010171451548558252\n",
      "Epoch 98, train loss: 0.010622807443724014\n",
      "Epoch 99, train loss: 0.01011359490621544\n"
     ]
    }
   ],
   "source": [
    "loss_gru = []\n",
    "for epoch in range(100):\n",
    "    sum_loss = 0\n",
    "    for b_idx, (data, labels) in enumerate(train_loader):\n",
    "        \n",
    "        # zero out gradient\n",
    "        optimizer.zero_grad()\n",
    "\n",
    "        # send batch to device\n",
    "        data, labels = data.to(device), labels.to(device)\n",
    "\n",
    "        # foward pass\n",
    "        pred = modelGRU(data)\n",
    "\n",
    "        # cross entropy loss\n",
    "        loss = F.mse_loss(pred, labels)\n",
    "\n",
    "        # back propagation\n",
    "        loss.backward()\n",
    "        sum_loss += loss.item()\n",
    "        optimizer.step()\n",
    "    print(f'Epoch {epoch}, train loss: {sum_loss / batch_size}')\n",
    "    loss_gru.append(sum_loss / batch_size)"
   ]
  },
  {
   "cell_type": "markdown",
   "id": "2ee73092-3cea-4bd7-9e3f-c15b7a05a8a5",
   "metadata": {},
   "source": [
    "**Validation Loss**"
   ]
  },
  {
   "cell_type": "code",
   "execution_count": 13,
   "id": "fa7b4742-d04a-4647-9a69-ba2981e9ee4e",
   "metadata": {},
   "outputs": [
    {
     "name": "stdout",
     "output_type": "stream",
     "text": [
      "Validation loss: 0.013975500856759027\n"
     ]
    }
   ],
   "source": [
    "valid_loader = DataLoader(valid_dataset, batch_size=batch_size, shuffle=True)\n",
    "modelGRU.eval()\n",
    "sum_loss = 0\n",
    "for b_idx, (data, labels) in enumerate(valid_loader):\n",
    "\n",
    "    # send batch to device\n",
    "    data, labels = data.to(device), labels.to(device)\n",
    "\n",
    "    # foward pass\n",
    "    pred = modelGRU(data)\n",
    "\n",
    "    # cross entropy loss\n",
    "    loss = F.mse_loss(pred, labels)\n",
    "\n",
    "    sum_loss += loss.item()\n",
    "print(f'Validation loss: {sum_loss / batch_size}')"
   ]
  },
  {
   "cell_type": "markdown",
   "id": "233c61fa-447c-4016-9e1a-3e30c1be7c22",
   "metadata": {},
   "source": [
    "**Test Loss**"
   ]
  },
  {
   "cell_type": "code",
   "execution_count": 14,
   "id": "02d5dd27-eba3-4aee-9a57-06d9fdfcb0d2",
   "metadata": {},
   "outputs": [
    {
     "name": "stdout",
     "output_type": "stream",
     "text": [
      "Test loss: 0.01674424431985244\n"
     ]
    }
   ],
   "source": [
    "test_loader = DataLoader(test_dataset, batch_size=batch_size, shuffle=True)\n",
    "modelGRU.eval()\n",
    "sum_loss = 0\n",
    "for b_idx, (data, labels) in enumerate(test_loader):\n",
    "\n",
    "    # send batch to device\n",
    "    data, labels = data.to(device), labels.to(device)\n",
    "\n",
    "    # foward pass\n",
    "    pred = modelGRU(data)\n",
    "\n",
    "    # cross entropy loss\n",
    "    loss = F.mse_loss(pred, labels)\n",
    "\n",
    "    sum_loss += loss.item()\n",
    "print(f'Test loss: {sum_loss / batch_size}')"
   ]
  },
  {
   "cell_type": "markdown",
   "id": "84aabe7b-4474-4dd8-854f-d3817e36a4c2",
   "metadata": {},
   "source": [
    "**Training LSTM**"
   ]
  },
  {
   "cell_type": "code",
   "execution_count": 33,
   "id": "27316170-26db-44e6-8ace-4445043dc931",
   "metadata": {},
   "outputs": [
    {
     "data": {
      "text/plain": [
       "Model(\n",
       "  (rnn): LSTM(1, 64, num_layers=3, batch_first=True, dropout=0.5)\n",
       "  (flatten): Flatten(start_dim=1, end_dim=-1)\n",
       "  (f1): Linear(in_features=7680, out_features=64, bias=True)\n",
       "  (f2): Linear(in_features=64, out_features=1, bias=True)\n",
       ")"
      ]
     },
     "execution_count": 33,
     "metadata": {},
     "output_type": "execute_result"
    }
   ],
   "source": [
    "device = f'cuda:0' if torch.cuda.is_available() else 'cpu'\n",
    "batch_size = 16\n",
    "\n",
    "modelLSTM = Model(frame_size, hidden_size = 64, hidden_size_2 = 64, num_layers = 3, drop = 0.5, mode = 'LSTM')\n",
    "modelLSTM.to(device)\n",
    "train_loader = DataLoader(train_dataset, batch_size=batch_size, shuffle=True)\n",
    "optimizer = optim.Adam(modelLSTM.parameters(), lr = 0.001)\n",
    "modelLSTM.train()"
   ]
  },
  {
   "cell_type": "code",
   "execution_count": 34,
   "id": "214411c9-d877-4592-a1e2-9598026598e8",
   "metadata": {},
   "outputs": [
    {
     "name": "stdout",
     "output_type": "stream",
     "text": [
      "Epoch 0, train loss: 0.24706983364012558\n",
      "Epoch 1, train loss: 0.14180795344873331\n",
      "Epoch 2, train loss: 0.1434289960307069\n",
      "Epoch 3, train loss: 0.13510030605539214\n",
      "Epoch 4, train loss: 0.13932269703946076\n",
      "Epoch 5, train loss: 0.1337851506541483\n",
      "Epoch 6, train loss: 0.13263631716836244\n",
      "Epoch 7, train loss: 0.13296515890397131\n",
      "Epoch 8, train loss: 0.13049250995391048\n",
      "Epoch 9, train loss: 0.1291362291231053\n",
      "Epoch 10, train loss: 0.12246084639627952\n",
      "Epoch 11, train loss: 0.11824281439476181\n",
      "Epoch 12, train loss: 0.12106049571593758\n",
      "Epoch 13, train loss: 0.10879592232231516\n",
      "Epoch 14, train loss: 0.10922164397197776\n",
      "Epoch 15, train loss: 0.1037989423784893\n",
      "Epoch 16, train loss: 0.10291971277911216\n",
      "Epoch 17, train loss: 0.10200805159547599\n",
      "Epoch 18, train loss: 0.10131152642134111\n",
      "Epoch 19, train loss: 0.10095237540372182\n",
      "Epoch 20, train loss: 0.0982340096088592\n",
      "Epoch 21, train loss: 0.09890071980771609\n",
      "Epoch 22, train loss: 0.10098611353896558\n",
      "Epoch 23, train loss: 0.0959753983115661\n",
      "Epoch 24, train loss: 0.10017384320963174\n",
      "Epoch 25, train loss: 0.09597279266745318\n",
      "Epoch 26, train loss: 0.09592851150955539\n",
      "Epoch 27, train loss: 0.09577808530593757\n",
      "Epoch 28, train loss: 0.09480582286778372\n",
      "Epoch 29, train loss: 0.09472598419233691\n",
      "Epoch 30, train loss: 0.0932114965544315\n",
      "Epoch 31, train loss: 0.0937309061846463\n",
      "Epoch 32, train loss: 0.09118432465766091\n",
      "Epoch 33, train loss: 0.08672414076863788\n",
      "Epoch 34, train loss: 0.089483993142494\n",
      "Epoch 35, train loss: 0.08761624120234046\n",
      "Epoch 36, train loss: 0.08408532048633788\n",
      "Epoch 37, train loss: 0.08318026416236535\n",
      "Epoch 38, train loss: 0.08198580599855632\n",
      "Epoch 39, train loss: 0.08185350383428158\n",
      "Epoch 40, train loss: 0.07997315208194777\n",
      "Epoch 41, train loss: 0.07417111295217182\n",
      "Epoch 42, train loss: 0.07438963176537072\n",
      "Epoch 43, train loss: 0.07097498075745534\n",
      "Epoch 44, train loss: 0.06910005104873562\n",
      "Epoch 45, train loss: 0.06792519919690676\n",
      "Epoch 46, train loss: 0.06442893020721385\n",
      "Epoch 47, train loss: 0.060613512141571846\n",
      "Epoch 48, train loss: 0.05670749713317491\n",
      "Epoch 49, train loss: 0.053694645917858\n",
      "Epoch 50, train loss: 0.04950683770584874\n",
      "Epoch 51, train loss: 0.04482244846440153\n",
      "Epoch 52, train loss: 0.043083977841888554\n",
      "Epoch 53, train loss: 0.04054324567550793\n",
      "Epoch 54, train loss: 0.036152729982859455\n",
      "Epoch 55, train loss: 0.032131998017575825\n",
      "Epoch 56, train loss: 0.027065825495810714\n",
      "Epoch 57, train loss: 0.026288033106538933\n",
      "Epoch 58, train loss: 0.023519410387962125\n",
      "Epoch 59, train loss: 0.022937673169508344\n",
      "Epoch 60, train loss: 0.0211888175799686\n",
      "Epoch 61, train loss: 0.019637855748442234\n",
      "Epoch 62, train loss: 0.017982714307436254\n",
      "Epoch 63, train loss: 0.01887012149745715\n",
      "Epoch 64, train loss: 0.016663206999510294\n",
      "Epoch 65, train loss: 0.015111796268683975\n",
      "Epoch 66, train loss: 0.015640530653399765\n",
      "Epoch 67, train loss: 0.01382334107074712\n",
      "Epoch 68, train loss: 0.013025940103943867\n",
      "Epoch 69, train loss: 0.012492546383327863\n",
      "Epoch 70, train loss: 0.012842885260397452\n",
      "Epoch 71, train loss: 0.011999418478808366\n",
      "Epoch 72, train loss: 0.011681976429827046\n",
      "Epoch 73, train loss: 0.011337523410475114\n",
      "Epoch 74, train loss: 0.010679435137717519\n",
      "Epoch 75, train loss: 0.010358704888858483\n",
      "Epoch 76, train loss: 0.009585612126102205\n",
      "Epoch 77, train loss: 0.009581906189850997\n",
      "Epoch 78, train loss: 0.010231448182821623\n",
      "Epoch 79, train loss: 0.009496515047430876\n",
      "Epoch 80, train loss: 0.009123852198172244\n",
      "Epoch 81, train loss: 0.008611552946604206\n",
      "Epoch 82, train loss: 0.009129490917985095\n",
      "Epoch 83, train loss: 0.008638899094876251\n",
      "Epoch 84, train loss: 0.008233171043684706\n",
      "Epoch 85, train loss: 0.008527542579031433\n",
      "Epoch 86, train loss: 0.008024879844924726\n",
      "Epoch 87, train loss: 0.008175605877113412\n",
      "Epoch 88, train loss: 0.008426893766227295\n",
      "Epoch 89, train loss: 0.009005356903799111\n",
      "Epoch 90, train loss: 0.008060496164034703\n",
      "Epoch 91, train loss: 0.007407358260934416\n",
      "Epoch 92, train loss: 0.008213723845074128\n",
      "Epoch 93, train loss: 0.006979451773077017\n",
      "Epoch 94, train loss: 0.006765189811630989\n",
      "Epoch 95, train loss: 0.00709021964121348\n",
      "Epoch 96, train loss: 0.007436167064952315\n",
      "Epoch 97, train loss: 0.0065446868511571665\n",
      "Epoch 98, train loss: 0.006677747433059267\n",
      "Epoch 99, train loss: 0.006882778586259519\n"
     ]
    }
   ],
   "source": [
    "loss_lstm = []\n",
    "for epoch in range(100):\n",
    "    sum_loss = 0\n",
    "    for b_idx, (data, labels) in enumerate(train_loader):\n",
    "        \n",
    "        # zero out gradient\n",
    "        optimizer.zero_grad()\n",
    "\n",
    "        # send batch to device\n",
    "        data, labels = data.to(device), labels.to(device)\n",
    "\n",
    "        # foward pass\n",
    "        pred = modelLSTM(data)\n",
    "\n",
    "        # cross entropy loss\n",
    "        loss = F.mse_loss(pred, labels)\n",
    "\n",
    "        # back propagation\n",
    "        loss.backward()\n",
    "        sum_loss += loss.item()\n",
    "        optimizer.step()\n",
    "    print(f'Epoch {epoch}, train loss: {sum_loss / batch_size}')\n",
    "    loss_lstm.append(sum_loss / batch_size)"
   ]
  },
  {
   "cell_type": "markdown",
   "id": "5bcc1a0c-b961-4bf1-b0e1-94a37b982454",
   "metadata": {},
   "source": [
    "**Validation Loss**"
   ]
  },
  {
   "cell_type": "code",
   "execution_count": 35,
   "id": "3f599839-1032-4330-9fb2-607b791a65a4",
   "metadata": {},
   "outputs": [
    {
     "name": "stdout",
     "output_type": "stream",
     "text": [
      "Validation loss: 0.014417543454328552\n"
     ]
    }
   ],
   "source": [
    "valid_loader = DataLoader(valid_dataset, batch_size=batch_size, shuffle=True)\n",
    "modelLSTM.eval()\n",
    "sum_loss = 0\n",
    "for b_idx, (data, labels) in enumerate(valid_loader):\n",
    "\n",
    "    # send batch to device\n",
    "    data, labels = data.to(device), labels.to(device)\n",
    "\n",
    "    # foward pass\n",
    "    pred = modelLSTM(data)\n",
    "\n",
    "    # cross entropy loss\n",
    "    loss = F.mse_loss(pred, labels)\n",
    "\n",
    "    sum_loss += loss.item()\n",
    "print(f'Validation loss: {sum_loss / batch_size}')"
   ]
  },
  {
   "cell_type": "markdown",
   "id": "d488662b-af5b-443d-b5e1-142d0091d4e7",
   "metadata": {},
   "source": [
    "**Test Loss**"
   ]
  },
  {
   "cell_type": "code",
   "execution_count": 36,
   "id": "b227b4db-b45b-45ec-bb9b-08f6b5f15daa",
   "metadata": {},
   "outputs": [
    {
     "name": "stdout",
     "output_type": "stream",
     "text": [
      "Test loss: 0.014970951830036938\n"
     ]
    }
   ],
   "source": [
    "test_loader = DataLoader(test_dataset, batch_size=batch_size, shuffle=True)\n",
    "modelLSTM.eval()\n",
    "sum_loss = 0\n",
    "for b_idx, (data, labels) in enumerate(test_loader):\n",
    "\n",
    "    # send batch to device\n",
    "    data, labels = data.to(device), labels.to(device)\n",
    "\n",
    "    # foward pass\n",
    "    pred = modelLSTM(data)\n",
    "\n",
    "    # cross entropy loss\n",
    "    loss = F.mse_loss(pred, labels)\n",
    "\n",
    "    sum_loss += loss.item()\n",
    "print(f'Test loss: {sum_loss / batch_size}')"
   ]
  },
  {
   "cell_type": "markdown",
   "id": "ffe96912-a250-463f-a0df-d01184ce1ccf",
   "metadata": {},
   "source": [
    "### Performance Comparison"
   ]
  },
  {
   "cell_type": "markdown",
   "id": "a7b627ba-afac-485d-a617-0ac78623296c",
   "metadata": {},
   "source": [
    "**Final test loss comparison**\n",
    "\n",
    "| Model | Test Loss |\n",
    "| :---: | :---: |\n",
    "| RNN | 0.0173 |\n",
    "| GRU | 0.0167 |\n",
    "| LSTM | 0.0144 |"
   ]
  },
  {
   "cell_type": "markdown",
   "id": "8018625b-d19d-41f5-916e-67f2ca467d79",
   "metadata": {},
   "source": [
    "As we can see from the table above, RNN > GRU > LSTM in terms of test loss. I believe this is due to the nature of this problem: predicting a trend from past data. Recall that the temperature data we trained on looks roughly like a sine curve with a lot of noises. The day to day temperature fluctuation is big enough so that the model has to be able to intepret the long-term trend before it can effectively predicts the next data point. This is where GRU and LSTM comes in. For vanilla RNN, it simply passes the computed output from the last RNN cell onto the next one. However, when the input sequence is long enough (120 days in our case), earlier values in the sequence can easily get \"lost\". This makes it difficult for RNN to learn long-term trend, thus it has the highest test loss. GRU and LSTM on the otherhands, several new gates (update, forget (LSTM only), and ouput (LSTM only) gates) were introduced to pass on earlier information to the more recent cells. This way, both GRU and LSTM are able to retain the information from earlier values in the sequence, which allows it to better intepret the long-term trend and thus having better loss than vanilla RNN. Between GRU and LSTM, LSTM outperforms GRU since it basically has all the gates that GRU has, but with more additional gates. "
   ]
  },
  {
   "cell_type": "markdown",
   "id": "a6da33b7-b12c-4f45-bd69-9fbd2b23bd6c",
   "metadata": {},
   "source": [
    "**Training Loss over time**"
   ]
  },
  {
   "cell_type": "code",
   "execution_count": 38,
   "id": "35df0c74-42d8-48b5-ad5f-348200cf48c0",
   "metadata": {},
   "outputs": [
    {
     "data": {
      "text/plain": [
       "Text(0, 0.5, 'Loss')"
      ]
     },
     "execution_count": 38,
     "metadata": {},
     "output_type": "execute_result"
    },
    {
     "data": {
      "image/png": "[encoded data removed]",
      "text/plain": [
       "<Figure size 432x288 with 1 Axes>"
      ]
     },
     "metadata": {
      "needs_background": "light"
     },
     "output_type": "display_data"
    }
   ],
   "source": [
    "plt.plot(np.arange(100), loss_rnn, label = 'RNN')\n",
    "plt.plot(np.arange(100), loss_gru, label = 'GRU')\n",
    "plt.plot(np.arange(100), loss_lstm, label = 'LSTM')\n",
    "plt.legend()\n",
    "plt.title('Training Loss Comparison')\n",
    "plt.xlabel('Epoch')\n",
    "plt.ylabel('Loss')"
   ]
  },
  {
   "cell_type": "markdown",
   "id": "5d9b6e2d-b8ed-4019-b787-804bddeaab9a",
   "metadata": {},
   "source": [
    "As expected, GRU and LSTM converges much faster and reached better loss compared to vanilla RNNs due to the issue descrived above, with LSTM having slightly loss than GRU."
   ]
  },
  {
   "cell_type": "markdown",
   "id": "5d642803-84e2-45d5-9f38-fe6153a625c1",
   "metadata": {},
   "source": [
    "**Prediction Visualization on test set**"
   ]
  },
  {
   "cell_type": "code",
   "execution_count": 39,
   "id": "99367c61-1633-44f3-9467-f3a391682f23",
   "metadata": {},
   "outputs": [],
   "source": [
    "valRNN = test_dataset.seq[:frame_size].detach().tolist()\n",
    "valGRU = test_dataset.seq[:frame_size].detach().tolist()\n",
    "valLSTM = test_dataset.seq[:frame_size].detach().tolist()\n",
    "for i in range(test_dataset.seq.shape[0] - frame_size):\n",
    "    dataRNN = torch.tensor(valRNN[-frame_size:]).unsqueeze(-1).unsqueeze(0).to(device)\n",
    "    dataGRU = torch.tensor(valGRU[-frame_size:]).unsqueeze(-1).unsqueeze(0).to(device)\n",
    "    dataLSTM = torch.tensor(valLSTM[-frame_size:]).unsqueeze(-1).unsqueeze(0).to(device)\n",
    "    predRNN = modelRNN(dataRNN)\n",
    "    predGRU = modelGRU(dataGRU)\n",
    "    predLSTM = modelLSTM(dataLSTM)\n",
    "    valRNN.append(predRNN.item())\n",
    "    valGRU.append(predGRU.item())\n",
    "    valLSTM.append(predLSTM.item())"
   ]
  },
  {
   "cell_type": "code",
   "execution_count": 41,
   "id": "f09d5bc8-d184-491f-8122-1e567dc8936a",
   "metadata": {},
   "outputs": [
    {
     "data": {
      "image/png": "[encoded data removed]",
      "text/plain": [
       "<Figure size 432x288 with 1 Axes>"
      ]
     },
     "metadata": {
      "needs_background": "light"
     },
     "output_type": "display_data"
    }
   ],
   "source": [
    "plt.plot(np.arange(test_dataset.seq.shape[0])[frame_size:], test_dataset.seq[frame_size:], label = 'Actual Value')\n",
    "plt.plot(np.arange(test_dataset.seq.shape[0])[frame_size:], valRNN[frame_size:], label = 'RNN')\n",
    "plt.plot(np.arange(test_dataset.seq.shape[0])[frame_size:], valGRU[frame_size:], label = 'GRU')\n",
    "plt.plot(np.arange(test_dataset.seq.shape[0])[frame_size:], valLSTM[frame_size:], label = 'LSTM')\n",
    "plt.title('Minimum Daily temperature prediction on test set')\n",
    "plt.xlabel('day')\n",
    "plt.ylabel('temperature')\n",
    "plt.legend()\n",
    "plt.show()"
   ]
  },
  {
   "cell_type": "markdown",
   "id": "23778544-da5a-4384-b9ee-25f8cf0d4d08",
   "metadata": {},
   "source": [
    "The above visualization is generated by using the first 120 data points in the test set as input, and let the model recurrently predicts the next data points.\n",
    "\n",
    "At the beginning of the prediction, all three models did a descent job predicting the minimal temperature of the next day. However, as the prediction goes on, we can see RNN and GRU starts to deviate away from the upward trend in the actual value (around day 260), with RNN being worse than GRU. In contrast, LSTM is able to keep up with the upward trend."
   ]
  },
  {
   "cell_type": "markdown",
   "id": "a4ada40e-2fb0-414d-8402-8667d608dcd0",
   "metadata": {},
   "source": [
    "**Feed Foward Network for Sequential Data**\n",
    "\n",
    "Normally, sequential data can not be solved by a simple feed-forward network. This is because a traditional FFN will disregard the order of the sequence, which is one of the fundamental feature in a sequential dataset. "
   ]
  },
  {
   "cell_type": "markdown",
   "id": "7a915b7e-6418-4615-8349-33bfcd4b8f65",
   "metadata": {},
   "source": [
    "## Task 2: Word2Vec"
   ]
  },
  {
   "cell_type": "markdown",
   "id": "624f6e96-813f-4d2f-8897-4bfbef388443",
   "metadata": {},
   "source": [
    "I will be using the GloVe word2vec embedding with 50 dimension for this implementation."
   ]
  },
  {
   "cell_type": "markdown",
   "id": "b38c15ac-e2e4-4e4a-b75d-a338d8369be5",
   "metadata": {},
   "source": [
    "**Parse Embedding**"
   ]
  },
  {
   "cell_type": "code",
   "execution_count": 42,
   "id": "447fa5c2-89cd-4baf-aa2e-c4beba8a8a7a",
   "metadata": {},
   "outputs": [],
   "source": [
    "import numpy as np"
   ]
  },
  {
   "cell_type": "code",
   "execution_count": 50,
   "id": "61b882e6-1651-49b9-adac-c19c406ca51c",
   "metadata": {},
   "outputs": [],
   "source": [
    "word2vec = {}\n",
    "with open('../data/glove.6B/glove.6B.50d.txt', encoding='cp437') as f:\n",
    "    for row in f:\n",
    "        data = row.strip().split(' ')\n",
    "        word2vec[data[0]] = np.array(data[1:], dtype = float)"
   ]
  },
  {
   "cell_type": "markdown",
   "id": "faea8294-a791-464b-ac0a-799ff121fc59",
   "metadata": {},
   "source": [
    "**Similarity / Dissimilarity Calculator**"
   ]
  },
  {
   "cell_type": "code",
   "execution_count": 59,
   "id": "7756e808-b4f7-4eec-903c-70d4e70d277f",
   "metadata": {},
   "outputs": [],
   "source": [
    "def compareWords(a, b):\n",
    "    vec_a = word2vec.get(a)\n",
    "    vec_b = word2vec.get(b)\n",
    "    # compute cosine similarity\n",
    "    cos_sim = np.dot(vec_a, vec_b)/(np.linalg.norm(vec_a)*np.linalg.norm(vec_b))\n",
    "    # compute dissimilarity (euclidean distance)\n",
    "    euc_dis = np.sum(np.sqrt(np.square(vec_a - vec_b)))\n",
    "    print(f'Similarity: {cos_sim}, Dissimilarity: {euc_dis}')"
   ]
  },
  {
   "cell_type": "markdown",
   "id": "b8edfa5d-b82e-4498-9be2-acac79dbb105",
   "metadata": {},
   "source": [
    "Examples"
   ]
  },
  {
   "cell_type": "code",
   "execution_count": 61,
   "id": "04386a7b-68d4-4b0f-b353-3e4dac5d09d0",
   "metadata": {},
   "outputs": [
    {
     "name": "stdout",
     "output_type": "stream",
     "text": [
      "Similarity: 0.7839043010964117, Dissimilarity: 19.848466300000002\n"
     ]
    }
   ],
   "source": [
    "compareWords('king', 'queen')"
   ]
  },
  {
   "cell_type": "code",
   "execution_count": 69,
   "id": "9c78a1d4-1672-4632-9cdb-68d5307b77fa",
   "metadata": {},
   "outputs": [
    {
     "name": "stdout",
     "output_type": "stream",
     "text": [
      "Similarity: 0.39326874478591695, Dissimilarity: 33.148742\n"
     ]
    }
   ],
   "source": [
    "compareWords('king', 'men')"
   ]
  },
  {
   "cell_type": "code",
   "execution_count": 70,
   "id": "51e7dc7f-bb1d-45c8-895d-c28160566492",
   "metadata": {},
   "outputs": [
    {
     "name": "stdout",
     "output_type": "stream",
     "text": [
      "Similarity: 0.301030146800214, Dissimilarity: 36.9215184\n"
     ]
    }
   ],
   "source": [
    "compareWords('king', 'women')"
   ]
  },
  {
   "cell_type": "markdown",
   "id": "191209b0-3dda-4716-9f03-f28aaf94f462",
   "metadata": {},
   "source": [
    "The dissimilarity metrics I used in the above function is just the euclidean distance between the two vectors (0 (alike) ~ inf (very different)). I think this is simple yet effective metric as the farther apart the two word vectors are in the embedding space, the more different in terms of context it should be."
   ]
  }
 ],
 "metadata": {
  "kernelspec": {
   "display_name": "Python [conda env:ml] *",
   "language": "python",
   "name": "conda-env-ml-py"
  },
  "language_info": {
   "codemirror_mode": {
    "name": "ipython",
    "version": 3
   },
   "file_extension": ".py",
   "mimetype": "text/x-python",
   "name": "python",
   "nbconvert_exporter": "python",
   "pygments_lexer": "ipython3",
   "version": "3.9.7"
  }
 },
 "nbformat": 4,
 "nbformat_minor": 5
}
