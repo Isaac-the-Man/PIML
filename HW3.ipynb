{
 "cells": [
  {
   "cell_type": "markdown",
   "id": "18e64aa0",
   "metadata": {},
   "source": [
    "# HW3"
   ]
  },
  {
   "cell_type": "code",
   "execution_count": 1,
   "id": "d42027d3",
   "metadata": {},
   "outputs": [],
   "source": [
    "import torch\n",
    "import torch.nn as nn\n",
    "import torch.nn.functional as F\n",
    "import torch.optim as optim\n",
    "from torch.utils.data import Dataset, DataLoader\n",
    "import numpy as np\n",
    "from tqdm import tqdm\n",
    "import pickle\n",
    "from matplotlib import pyplot as plt"
   ]
  },
  {
   "cell_type": "markdown",
   "id": "aa16be7d",
   "metadata": {},
   "source": [
    "## Task 1: Framework"
   ]
  },
  {
   "cell_type": "markdown",
   "id": "32dde7b1",
   "metadata": {},
   "source": [
    "PyTorch is the frame work I will be using for this project. It is chosen because of it's simplicity (declarative layers) while also giving the developer very low level control of the underlying data (gradients, bias, etc...). Also PyTorch offers a OOP model approach for developers to package individual models as a class and re-use them in the future. "
   ]
  },
  {
   "cell_type": "markdown",
   "id": "bf62cab1",
   "metadata": {},
   "source": [
    "Here are some important modules to implement this 2 layer Neural Network\n",
    "\n",
    "- **nn.Linear**\n",
    "    - Defines a fully connected layer, which is the most basic component of a neural network.\n",
    "    - https://pytorch.org/docs/stable/generated/torch.nn.Linear.html?highlight=nn%20linear#torch.nn.Linear\n",
    "- **nn.Module**\n",
    "    - Base class of all neural networks for the PyTorch framework.\n",
    "    - https://pytorch.org/docs/stable/generated/torch.nn.Module.html#torch.nn.Module\n",
    "- **optim.Adam**\n",
    "    - Adam optimizer, which is a modified gradient descent with variable learning rate.\n",
    "    - https://pytorch.org/docs/stable/generated/torch.optim.Adam.html?highlight=adam#torch.optim.Adam\n",
    "- **functional.cross_entropy**\n",
    "    - Cross entropy loss function. Used for calculating the loss of the classification problem, and also serves as the entry point for calculating gradient and doing back propagation.\n",
    "    - https://pytorch.org/docs/stable/generated/torch.nn.functional.cross_entropy.html?highlight=cross_entropy#torch.nn.functional.cross_entropy"
   ]
  },
  {
   "cell_type": "markdown",
   "id": "e60ace33",
   "metadata": {},
   "source": [
    "## Task 2: Implementation"
   ]
  },
  {
   "cell_type": "markdown",
   "id": "da737a29",
   "metadata": {},
   "source": [
    "**Dataset**"
   ]
  },
  {
   "cell_type": "markdown",
   "id": "73c2b37d",
   "metadata": {},
   "source": [
    "The dataset of choice is CIFAR-10, which consists of 60000 32x32 colour images in 10 classes, with 6000 images per class. The 10 labels are \n",
    "1. airplane\t\t\t\t\t\t\t\t\t\t\n",
    "1. automobile\t\t\t\t\t\t\t\t\t\t\n",
    "1. bird\t\t\t\t\t\t\t\t\t\t\n",
    "1. cat\t\t\t\t\t\t\t\t\t\t\n",
    "1. deer\t\t\t\t\t\t\t\t\t\t\n",
    "1. dog\t\t\t\t\t\t\t\t\t\t\n",
    "1. frog\t\t\t\t\t\t\t\t\t\t\n",
    "1. horse\t\t\t\t\t\t\t\t\t\t\n",
    "1. ship\t\t\t\t\t\t\t\t\t\t\n",
    "1. truck"
   ]
  },
  {
   "cell_type": "markdown",
   "id": "9dab5c34",
   "metadata": {},
   "source": [
    "**Load dataset**"
   ]
  },
  {
   "cell_type": "code",
   "execution_count": 83,
   "id": "301de556",
   "metadata": {},
   "outputs": [],
   "source": [
    "class CIFAR_10(Dataset):\n",
    "    '''\n",
    "    CIFAR 10 dataset\n",
    "    '''\n",
    "    def __init__(self, filenames):\n",
    "        self.filenames = filenames\n",
    "        # read in dataset\n",
    "        self.data = []\n",
    "        self.labels = []\n",
    "        for filename in self.filenames:\n",
    "            raw = self.unpickle(filename)\n",
    "            self.data.append(raw[b'data'])\n",
    "            self.labels.append(raw[b'labels'])\n",
    "        # concat into torch tensors\n",
    "        self.data = torch.cat([torch.tensor(x, dtype=torch.float64) for x in self.data])\n",
    "        self.labels = torch.cat([torch.tensor(x, dtype=torch.uint8) for x in self.labels])\n",
    "        # normalize dataset\n",
    "        self.data /= 255\n",
    "    \n",
    "    def unpickle(self, file):\n",
    "        with open(file, 'rb') as fo:\n",
    "            data = pickle.load(fo, encoding='bytes')\n",
    "        return data\n",
    "\n",
    "    def __len__(self):\n",
    "        return self.labels.shape[0]\n",
    "    \n",
    "    def __getitem__(self, idx):\n",
    "        return self.data[idx], self.labels[idx]\n",
    "        "
   ]
  },
  {
   "cell_type": "markdown",
   "id": "5649a40a",
   "metadata": {},
   "source": [
    "Load train, valid, and test dataset"
   ]
  },
  {
   "cell_type": "code",
   "execution_count": 84,
   "id": "be36c3d9",
   "metadata": {},
   "outputs": [],
   "source": [
    "train_dataset = CIFAR_10([f'../data/CIFAR_10/cifar-10-batches-py/data_batch_{i}' for i in range(1, 5)])\n",
    "valid_dataset = CIFAR_10(['../data/CIFAR_10/cifar-10-batches-py/data_batch_5'])\n",
    "test_dataset = CIFAR_10(['../data/CIFAR_10/cifar-10-batches-py/test_batch'])"
   ]
  },
  {
   "cell_type": "markdown",
   "id": "896061e9",
   "metadata": {},
   "source": [
    "Load label names"
   ]
  },
  {
   "cell_type": "code",
   "execution_count": 46,
   "id": "ba4f3daf",
   "metadata": {},
   "outputs": [],
   "source": [
    "meta = None\n",
    "with open('../data/CIFAR_10/cifar-10-batches-py/batches.meta', 'rb') as fo:\n",
    "    meta = pickle.load(fo, encoding='bytes')"
   ]
  },
  {
   "cell_type": "markdown",
   "id": "109631ee",
   "metadata": {},
   "source": [
    "**Sample data visualization**"
   ]
  },
  {
   "cell_type": "code",
   "execution_count": 50,
   "id": "dcdc7e6b",
   "metadata": {},
   "outputs": [
    {
     "data": {
      "text/plain": [
       "<matplotlib.image.AxesImage at 0x15525c93370>"
      ]
     },
     "execution_count": 50,
     "metadata": {},
     "output_type": "execute_result"
    },
    {
     "data": {
      "image/png": "[encoded data removed]",
      "text/plain": [
       "<Figure size 432x288 with 1 Axes>"
      ]
     },
     "metadata": {
      "needs_background": "light"
     },
     "output_type": "display_data"
    }
   ],
   "source": [
    "img, lbl = train_dataset.__getitem__(1)\n",
    "img = torch.moveaxis((img.reshape((3, 32, 32)) * 255).long(), 0, -1)\n",
    "plt.title(meta[b'label_names'][lbl])\n",
    "plt.imshow(img)"
   ]
  },
  {
   "cell_type": "markdown",
   "id": "2ef6fa8e",
   "metadata": {},
   "source": [
    "**Train/Dev/Test Split**"
   ]
  },
  {
   "cell_type": "markdown",
   "id": "69120179",
   "metadata": {},
   "source": [
    "The CIFAR-10 dataset was pre-splitted into 5 training batches and 1 testing batches, with each batches containing 10000 entries. For this project I will use the one of the 5 training batches as the dev/validation dataset."
   ]
  },
  {
   "cell_type": "markdown",
   "id": "72d53d76",
   "metadata": {},
   "source": [
    "**Final cost function**"
   ]
  },
  {
   "cell_type": "markdown",
   "id": "db14536f",
   "metadata": {},
   "source": [
    "Since it is a multiple label classification problem, cross entropy loss is used. The resulting value from the neural network is first passed into a softmax function before being passed into cross entropy. Final cost looks like below:"
   ]
  },
  {
   "cell_type": "markdown",
   "id": "58800b57",
   "metadata": {},
   "source": [
    "$$\n",
    "CE_{loss} = - \\sum^C_i t_i \\log(\\frac{e^{s_i}}{\\sum^C_j e^{s_j}})\n",
    "$$"
   ]
  },
  {
   "cell_type": "markdown",
   "id": "4073d713",
   "metadata": {},
   "source": [
    "**Model implementation**"
   ]
  },
  {
   "cell_type": "code",
   "execution_count": 179,
   "id": "5778ead8",
   "metadata": {},
   "outputs": [],
   "source": [
    "class MLP(nn.Module):\n",
    "    def __init__(self, h1_size = 128, h2_size = 64):\n",
    "        '''\n",
    "        Simple DNN with 2 layers of CNN followed by 3 linear layers\n",
    "        '''\n",
    "        super().__init__()\n",
    "        self.conv1 = nn.Conv2d(3, 6, 4)\n",
    "        self.pool = nn.MaxPool2d(2, 2)\n",
    "        self.conv2 = nn.Conv2d(6, 12, 4)\n",
    "        self.flatten = nn.Flatten()\n",
    "        self.f1 = nn.Linear(12 * 11 * 11, h1_size)\n",
    "        self.f2 = nn.Linear(h1_size, h2_size)\n",
    "        self.drop1 = nn.Dropout()\n",
    "        self.f3 = nn.Linear(h2_size, 10)\n",
    "    \n",
    "    def forward(self, x):\n",
    "        x = self.conv1(x)\n",
    "        x = self.pool(x)\n",
    "        x = self.conv2(x)\n",
    "        x = self.flatten(x)\n",
    "        x = self.f1(x)\n",
    "        x = F.relu(x)\n",
    "        x = self.f2(x)\n",
    "        x = F.relu(x)\n",
    "        x = self.drop1(x)\n",
    "        x = self.f3(x)\n",
    "        return x"
   ]
  },
  {
   "cell_type": "markdown",
   "id": "c82474ca",
   "metadata": {},
   "source": [
    "Hyper parameter configuration"
   ]
  },
  {
   "cell_type": "code",
   "execution_count": 171,
   "id": "4507feb2",
   "metadata": {},
   "outputs": [
    {
     "data": {
      "text/plain": [
       "MLP(\n",
       "  (conv1): Conv2d(3, 6, kernel_size=(4, 4), stride=(1, 1))\n",
       "  (pool): MaxPool2d(kernel_size=2, stride=2, padding=0, dilation=1, ceil_mode=False)\n",
       "  (conv2): Conv2d(6, 12, kernel_size=(4, 4), stride=(1, 1))\n",
       "  (flatten): Flatten(start_dim=1, end_dim=-1)\n",
       "  (f1): Linear(in_features=1452, out_features=128, bias=True)\n",
       "  (f2): Linear(in_features=128, out_features=64, bias=True)\n",
       "  (drop1): Dropout(p=0.5, inplace=False)\n",
       "  (f3): Linear(in_features=64, out_features=10, bias=True)\n",
       ")"
      ]
     },
     "execution_count": 171,
     "metadata": {},
     "output_type": "execute_result"
    }
   ],
   "source": [
    "device = f'cuda:0' if torch.cuda.is_available() else 'cpu'\n",
    "\n",
    "batch_size = 512\n",
    "epochs = 30\n",
    "learning_rate = 0.001\n",
    "\n",
    "model = MLP(h1_size = 128, h2_size = 64)\n",
    "model.to(device)\n",
    "model.train()"
   ]
  },
  {
   "cell_type": "markdown",
   "id": "6fe7a331",
   "metadata": {},
   "source": [
    "Spawn dataloaders"
   ]
  },
  {
   "cell_type": "code",
   "execution_count": 168,
   "id": "29371afa",
   "metadata": {},
   "outputs": [],
   "source": [
    "train_loader = DataLoader(dataset = train_dataset, batch_size = batch_size)\n",
    "valid_loader = DataLoader(dataset = valid_dataset, batch_size = batch_size)\n",
    "test_loader = DataLoader(dataset = test_dataset, batch_size = batch_size)\n",
    "optimizer = optim.Adam(model.parameters(), lr = learning_rate)"
   ]
  },
  {
   "cell_type": "markdown",
   "id": "a9ec049a",
   "metadata": {},
   "source": [
    "**Training**"
   ]
  },
  {
   "cell_type": "code",
   "execution_count": 164,
   "id": "86a6d654",
   "metadata": {},
   "outputs": [
    {
     "name": "stderr",
     "output_type": "stream",
     "text": [
      "100%|████████████████████████████████████████████████████████████████████████████████████████████████████████████| 79/79 [00:01<00:00, 74.18it/s]\n"
     ]
    },
    {
     "name": "stdout",
     "output_type": "stream",
     "text": [
      "Epoch 0, train loss: 0.32328672893345356\n"
     ]
    },
    {
     "name": "stderr",
     "output_type": "stream",
     "text": [
      "100%|████████████████████████████████████████████████████████████████████████████████████████████████████████████| 79/79 [00:01<00:00, 78.06it/s]\n"
     ]
    },
    {
     "name": "stdout",
     "output_type": "stream",
     "text": [
      "Epoch 1, train loss: 0.2848415777552873\n"
     ]
    },
    {
     "name": "stderr",
     "output_type": "stream",
     "text": [
      "100%|████████████████████████████████████████████████████████████████████████████████████████████████████████████| 79/79 [00:01<00:00, 77.68it/s]\n"
     ]
    },
    {
     "name": "stdout",
     "output_type": "stream",
     "text": [
      "Epoch 2, train loss: 0.26577356993220747\n"
     ]
    },
    {
     "name": "stderr",
     "output_type": "stream",
     "text": [
      "100%|████████████████████████████████████████████████████████████████████████████████████████████████████████████| 79/79 [00:01<00:00, 70.66it/s]\n"
     ]
    },
    {
     "name": "stdout",
     "output_type": "stream",
     "text": [
      "Epoch 3, train loss: 0.25555909634567797\n"
     ]
    },
    {
     "name": "stderr",
     "output_type": "stream",
     "text": [
      "100%|████████████████████████████████████████████████████████████████████████████████████████████████████████████| 79/79 [00:01<00:00, 77.83it/s]\n"
     ]
    },
    {
     "name": "stdout",
     "output_type": "stream",
     "text": [
      "Epoch 4, train loss: 0.2479245278518647\n"
     ]
    },
    {
     "name": "stderr",
     "output_type": "stream",
     "text": [
      "100%|████████████████████████████████████████████████████████████████████████████████████████████████████████████| 79/79 [00:01<00:00, 77.30it/s]\n"
     ]
    },
    {
     "name": "stdout",
     "output_type": "stream",
     "text": [
      "Epoch 5, train loss: 0.24072468606755137\n"
     ]
    },
    {
     "name": "stderr",
     "output_type": "stream",
     "text": [
      "100%|████████████████████████████████████████████████████████████████████████████████████████████████████████████| 79/79 [00:01<00:00, 75.60it/s]\n"
     ]
    },
    {
     "name": "stdout",
     "output_type": "stream",
     "text": [
      "Epoch 6, train loss: 0.23492203536443412\n"
     ]
    },
    {
     "name": "stderr",
     "output_type": "stream",
     "text": [
      "100%|████████████████████████████████████████████████████████████████████████████████████████████████████████████| 79/79 [00:01<00:00, 72.88it/s]\n"
     ]
    },
    {
     "name": "stdout",
     "output_type": "stream",
     "text": [
      "Epoch 7, train loss: 0.22935114218853414\n"
     ]
    },
    {
     "name": "stderr",
     "output_type": "stream",
     "text": [
      "100%|████████████████████████████████████████████████████████████████████████████████████████████████████████████| 79/79 [00:01<00:00, 67.75it/s]\n"
     ]
    },
    {
     "name": "stdout",
     "output_type": "stream",
     "text": [
      "Epoch 8, train loss: 0.2243683929555118\n"
     ]
    },
    {
     "name": "stderr",
     "output_type": "stream",
     "text": [
      "100%|████████████████████████████████████████████████████████████████████████████████████████████████████████████| 79/79 [00:01<00:00, 72.21it/s]\n"
     ]
    },
    {
     "name": "stdout",
     "output_type": "stream",
     "text": [
      "Epoch 9, train loss: 0.21925282129086554\n"
     ]
    },
    {
     "name": "stderr",
     "output_type": "stream",
     "text": [
      "100%|████████████████████████████████████████████████████████████████████████████████████████████████████████████| 79/79 [00:01<00:00, 74.81it/s]\n"
     ]
    },
    {
     "name": "stdout",
     "output_type": "stream",
     "text": [
      "Epoch 10, train loss: 0.21452953317202628\n"
     ]
    },
    {
     "name": "stderr",
     "output_type": "stream",
     "text": [
      "100%|████████████████████████████████████████████████████████████████████████████████████████████████████████████| 79/79 [00:01<00:00, 75.74it/s]\n"
     ]
    },
    {
     "name": "stdout",
     "output_type": "stream",
     "text": [
      "Epoch 11, train loss: 0.20950802671723068\n"
     ]
    },
    {
     "name": "stderr",
     "output_type": "stream",
     "text": [
      "100%|████████████████████████████████████████████████████████████████████████████████████████████████████████████| 79/79 [00:01<00:00, 76.11it/s]\n"
     ]
    },
    {
     "name": "stdout",
     "output_type": "stream",
     "text": [
      "Epoch 12, train loss: 0.20513562485575676\n"
     ]
    },
    {
     "name": "stderr",
     "output_type": "stream",
     "text": [
      "100%|████████████████████████████████████████████████████████████████████████████████████████████████████████████| 79/79 [00:01<00:00, 75.67it/s]\n"
     ]
    },
    {
     "name": "stdout",
     "output_type": "stream",
     "text": [
      "Epoch 13, train loss: 0.2023393149720505\n"
     ]
    },
    {
     "name": "stderr",
     "output_type": "stream",
     "text": [
      "100%|████████████████████████████████████████████████████████████████████████████████████████████████████████████| 79/79 [00:01<00:00, 76.70it/s]\n"
     ]
    },
    {
     "name": "stdout",
     "output_type": "stream",
     "text": [
      "Epoch 14, train loss: 0.19927469512913376\n"
     ]
    },
    {
     "name": "stderr",
     "output_type": "stream",
     "text": [
      "100%|████████████████████████████████████████████████████████████████████████████████████████████████████████████| 79/79 [00:01<00:00, 70.04it/s]\n"
     ]
    },
    {
     "name": "stdout",
     "output_type": "stream",
     "text": [
      "Epoch 15, train loss: 0.19459954975172877\n"
     ]
    },
    {
     "name": "stderr",
     "output_type": "stream",
     "text": [
      "100%|████████████████████████████████████████████████████████████████████████████████████████████████████████████| 79/79 [00:01<00:00, 77.22it/s]\n"
     ]
    },
    {
     "name": "stdout",
     "output_type": "stream",
     "text": [
      "Epoch 16, train loss: 0.19172520632855594\n"
     ]
    },
    {
     "name": "stderr",
     "output_type": "stream",
     "text": [
      "100%|████████████████████████████████████████████████████████████████████████████████████████████████████████████| 79/79 [00:01<00:00, 77.00it/s]\n"
     ]
    },
    {
     "name": "stdout",
     "output_type": "stream",
     "text": [
      "Epoch 17, train loss: 0.1872442023595795\n"
     ]
    },
    {
     "name": "stderr",
     "output_type": "stream",
     "text": [
      "100%|████████████████████████████████████████████████████████████████████████████████████████████████████████████| 79/79 [00:01<00:00, 77.00it/s]\n"
     ]
    },
    {
     "name": "stdout",
     "output_type": "stream",
     "text": [
      "Epoch 18, train loss: 0.18510092434007674\n"
     ]
    },
    {
     "name": "stderr",
     "output_type": "stream",
     "text": [
      "100%|████████████████████████████████████████████████████████████████████████████████████████████████████████████| 79/79 [00:01<00:00, 77.07it/s]\n"
     ]
    },
    {
     "name": "stdout",
     "output_type": "stream",
     "text": [
      "Epoch 19, train loss: 0.1818123406264931\n"
     ]
    },
    {
     "name": "stderr",
     "output_type": "stream",
     "text": [
      "100%|████████████████████████████████████████████████████████████████████████████████████████████████████████████| 79/79 [00:01<00:00, 70.54it/s]\n"
     ]
    },
    {
     "name": "stdout",
     "output_type": "stream",
     "text": [
      "Epoch 20, train loss: 0.17789803782943636\n"
     ]
    },
    {
     "name": "stderr",
     "output_type": "stream",
     "text": [
      "100%|████████████████████████████████████████████████████████████████████████████████████████████████████████████| 79/79 [00:01<00:00, 76.92it/s]\n"
     ]
    },
    {
     "name": "stdout",
     "output_type": "stream",
     "text": [
      "Epoch 21, train loss: 0.17464986315462738\n"
     ]
    },
    {
     "name": "stderr",
     "output_type": "stream",
     "text": [
      "100%|████████████████████████████████████████████████████████████████████████████████████████████████████████████| 79/79 [00:01<00:00, 77.76it/s]\n"
     ]
    },
    {
     "name": "stdout",
     "output_type": "stream",
     "text": [
      "Epoch 22, train loss: 0.17188518366310745\n"
     ]
    },
    {
     "name": "stderr",
     "output_type": "stream",
     "text": [
      "100%|████████████████████████████████████████████████████████████████████████████████████████████████████████████| 79/79 [00:01<00:00, 77.30it/s]\n"
     ]
    },
    {
     "name": "stdout",
     "output_type": "stream",
     "text": [
      "Epoch 23, train loss: 0.17025469965301454\n"
     ]
    },
    {
     "name": "stderr",
     "output_type": "stream",
     "text": [
      "100%|████████████████████████████████████████████████████████████████████████████████████████████████████████████| 79/79 [00:01<00:00, 74.88it/s]\n"
     ]
    },
    {
     "name": "stdout",
     "output_type": "stream",
     "text": [
      "Epoch 24, train loss: 0.16870393813587725\n"
     ]
    },
    {
     "name": "stderr",
     "output_type": "stream",
     "text": [
      "100%|████████████████████████████████████████████████████████████████████████████████████████████████████████████| 79/79 [00:01<00:00, 77.45it/s]\n"
     ]
    },
    {
     "name": "stdout",
     "output_type": "stream",
     "text": [
      "Epoch 25, train loss: 0.1672387425787747\n"
     ]
    },
    {
     "name": "stderr",
     "output_type": "stream",
     "text": [
      "100%|████████████████████████████████████████████████████████████████████████████████████████████████████████████| 79/79 [00:01<00:00, 77.30it/s]\n"
     ]
    },
    {
     "name": "stdout",
     "output_type": "stream",
     "text": [
      "Epoch 26, train loss: 0.16577990393852815\n"
     ]
    },
    {
     "name": "stderr",
     "output_type": "stream",
     "text": [
      "100%|████████████████████████████████████████████████████████████████████████████████████████████████████████████| 79/79 [00:01<00:00, 77.60it/s]\n"
     ]
    },
    {
     "name": "stdout",
     "output_type": "stream",
     "text": [
      "Epoch 27, train loss: 0.16151188872754574\n"
     ]
    },
    {
     "name": "stderr",
     "output_type": "stream",
     "text": [
      "100%|████████████████████████████████████████████████████████████████████████████████████████████████████████████| 79/79 [00:01<00:00, 71.43it/s]\n"
     ]
    },
    {
     "name": "stdout",
     "output_type": "stream",
     "text": [
      "Epoch 28, train loss: 0.15941607189597562\n"
     ]
    },
    {
     "name": "stderr",
     "output_type": "stream",
     "text": [
      "100%|████████████████████████████████████████████████████████████████████████████████████████████████████████████| 79/79 [00:01<00:00, 77.15it/s]"
     ]
    },
    {
     "name": "stdout",
     "output_type": "stream",
     "text": [
      "Epoch 29, train loss: 0.15531852294225246\n"
     ]
    },
    {
     "name": "stderr",
     "output_type": "stream",
     "text": [
      "\n"
     ]
    }
   ],
   "source": [
    "for epoch in range(epochs):\n",
    "    sum_loss = 0\n",
    "    for (data, labels) in tqdm(train_loader):\n",
    "        \n",
    "        # zero out gradient\n",
    "        optimizer.zero_grad()\n",
    "        \n",
    "        # send batch to device\n",
    "        data, labels = data.to(device), labels.to(device)\n",
    "       \n",
    "        # foward pass\n",
    "        pred = model(data.view(labels.shape[0], 3, 32, 32).float())\n",
    "        \n",
    "        # cross entropy loss\n",
    "        loss = F.cross_entropy(pred, labels)\n",
    "        \n",
    "        # back propagation\n",
    "        loss.backward()\n",
    "        sum_loss += loss.item()\n",
    "        optimizer.step()\n",
    "    \n",
    "    # print out epoch stats\n",
    "    print(f'Epoch {epoch}, train loss: {sum_loss / batch_size}')"
   ]
  },
  {
   "cell_type": "markdown",
   "id": "1e92941b",
   "metadata": {},
   "source": [
    "**Evaluation**"
   ]
  },
  {
   "cell_type": "markdown",
   "id": "8868696b",
   "metadata": {},
   "source": [
    "Training and Validation Accuracy"
   ]
  },
  {
   "cell_type": "code",
   "execution_count": 167,
   "id": "4e28ae46",
   "metadata": {},
   "outputs": [
    {
     "name": "stderr",
     "output_type": "stream",
     "text": [
      "100%|███████████████████████████████████████████████████████████████████████████████████████████████████████████| 79/79 [00:00<00:00, 115.67it/s]"
     ]
    },
    {
     "name": "stdout",
     "output_type": "stream",
     "text": [
      "Training Accuracy: 0.697\n"
     ]
    },
    {
     "name": "stderr",
     "output_type": "stream",
     "text": [
      "\n"
     ]
    }
   ],
   "source": [
    "model.eval()\n",
    "with torch.no_grad():\n",
    "    correct = 0\n",
    "    for (data, labels) in tqdm(train_loader):\n",
    "\n",
    "        # send batch to device\n",
    "        data, labels = data.to(device), labels.to(device)\n",
    "\n",
    "        # foward pass\n",
    "        pred = model(data.view(labels.shape[0], 3, 32, 32).float())\n",
    "\n",
    "        # softmax and argmax\n",
    "        pred = F.softmax(pred, dim = 1)\n",
    "        pred = torch.argmax(pred, dim = 1)\n",
    "\n",
    "        # compute accuracy\n",
    "        correct += torch.sum(pred == labels.float())\n",
    "\n",
    "# accuracy\n",
    "print(f'Training Accuracy: {correct / len(train_dataset):.3f}')"
   ]
  },
  {
   "cell_type": "code",
   "execution_count": 166,
   "id": "b2167476",
   "metadata": {},
   "outputs": [
    {
     "name": "stderr",
     "output_type": "stream",
     "text": [
      "100%|███████████████████████████████████████████████████████████████████████████████████████████████████████████| 20/20 [00:00<00:00, 119.73it/s]"
     ]
    },
    {
     "name": "stdout",
     "output_type": "stream",
     "text": [
      "Validation Accuracy: 0.585\n"
     ]
    },
    {
     "name": "stderr",
     "output_type": "stream",
     "text": [
      "\n"
     ]
    }
   ],
   "source": [
    "model.eval()\n",
    "with torch.no_grad():\n",
    "    correct = 0\n",
    "    for (data, labels) in tqdm(valid_loader):\n",
    "\n",
    "        # send batch to device\n",
    "        data, labels = data.to(device), labels.to(device)\n",
    "\n",
    "        # foward pass\n",
    "        pred = model(data.view(labels.shape[0], 3, 32, 32).float())\n",
    "\n",
    "        # softmax and argmax\n",
    "        pred = F.softmax(pred, dim = 1)\n",
    "        pred = torch.argmax(pred, dim = 1)\n",
    "\n",
    "        # compute accuracy\n",
    "        correct += torch.sum(pred == labels.float())\n",
    "\n",
    "# accuracy\n",
    "print(f'Validation Accuracy: {correct / len(valid_dataset):.3f}')"
   ]
  },
  {
   "cell_type": "markdown",
   "id": "59e6039e",
   "metadata": {},
   "source": [
    "Testing Accuracy (Only ran after tuning hyper-parameters using validation dataset)"
   ]
  },
  {
   "cell_type": "code",
   "execution_count": 169,
   "id": "7532cfab",
   "metadata": {},
   "outputs": [
    {
     "name": "stderr",
     "output_type": "stream",
     "text": [
      "100%|███████████████████████████████████████████████████████████████████████████████████████████████████████████| 20/20 [00:00<00:00, 111.03it/s]"
     ]
    },
    {
     "name": "stdout",
     "output_type": "stream",
     "text": [
      "Testing Accuracy: 0.583\n"
     ]
    },
    {
     "name": "stderr",
     "output_type": "stream",
     "text": [
      "\n"
     ]
    }
   ],
   "source": [
    "model.eval()\n",
    "with torch.no_grad():\n",
    "    correct = 0\n",
    "    for (data, labels) in tqdm(test_loader):\n",
    "\n",
    "        # send batch to device\n",
    "        data, labels = data.to(device), labels.to(device)\n",
    "\n",
    "        # foward pass\n",
    "        pred = model(data.view(labels.shape[0], 3, 32, 32).float())\n",
    "\n",
    "        # softmax and argmax\n",
    "        pred = F.softmax(pred, dim = 1)\n",
    "        pred = torch.argmax(pred, dim = 1)\n",
    "\n",
    "        # compute accuracy\n",
    "        correct += torch.sum(pred == labels.float())\n",
    "\n",
    "# accuracy\n",
    "print(f'Testing Accuracy: {correct / len(test_dataset):.3f}')"
   ]
  },
  {
   "cell_type": "markdown",
   "id": "f4b2d3f0",
   "metadata": {},
   "source": [
    "## Task 3: Hyper-parameter tuning"
   ]
  },
  {
   "cell_type": "markdown",
   "id": "8695cfce",
   "metadata": {},
   "source": [
    "The hyper-parameters I'm intersted in tuning are the following:\n",
    "1. Number of epochs\n",
    "1. Batch size\n",
    "1. Learning rate\n",
    "1. Hidden layer 1 size\n",
    "1. Hidden layer 2 size"
   ]
  },
  {
   "cell_type": "markdown",
   "id": "512d70ba",
   "metadata": {},
   "source": [
    "The technique I used is the \"grid search\" method. Basically, For each hyper-parameters above I have a set range of possible values. I then train a neural networks for every possible combinations of the hyper-parameters above, and pick the model with the best validation accuracy. The idea is that given a carefully selected range of reasonable values, I can brute-force out the best combination of the above hyper-parameters."
   ]
  },
  {
   "cell_type": "markdown",
   "id": "3ace122a",
   "metadata": {},
   "source": [
    "For regularization I implemented a dropout layer with probability 0.5. This is because I start to notice some degree of overfitting (training loss is going down while validation loss isn't) when training the model to higher epochs. Using this technique significantly generalized the model and also boosted my validation accuracy. "
   ]
  },
  {
   "cell_type": "markdown",
   "id": "16845dee",
   "metadata": {},
   "source": [
    "For optimization, I used the Adam optimizer. This is to prevent the gradient being stuck at a local minima by changing the learning rate using exponential moving accuracy. Generally, using Adam optimzer allows the model to converge faster."
   ]
  },
  {
   "cell_type": "markdown",
   "id": "f55cce9b",
   "metadata": {},
   "source": [
    "##  Task 4: Non-neural-network model"
   ]
  },
  {
   "cell_type": "code",
   "execution_count": 184,
   "id": "f102143a",
   "metadata": {},
   "outputs": [],
   "source": [
    "from sklearn.tree import DecisionTreeClassifier"
   ]
  },
  {
   "cell_type": "markdown",
   "id": "5bc53273",
   "metadata": {},
   "source": [
    "**Train a Decision Tree**"
   ]
  },
  {
   "cell_type": "code",
   "execution_count": 178,
   "id": "cd6aad49",
   "metadata": {},
   "outputs": [
    {
     "data": {
      "text/plain": [
       "DecisionTreeClassifier()"
      ]
     },
     "execution_count": 178,
     "metadata": {},
     "output_type": "execute_result"
    }
   ],
   "source": [
    "clf = DecisionTreeClassifier()\n",
    "clf.fit(train_dataset.data, train_dataset.labels)"
   ]
  },
  {
   "cell_type": "markdown",
   "id": "afa3d7af",
   "metadata": {},
   "source": [
    "Testing accuracy"
   ]
  },
  {
   "cell_type": "code",
   "execution_count": 188,
   "id": "c310f614",
   "metadata": {},
   "outputs": [
    {
     "name": "stdout",
     "output_type": "stream",
     "text": [
      "Testing Accuracy: 0.264\n"
     ]
    }
   ],
   "source": [
    "print(f'Testing Accuracy: {clf.score(test_dataset.data, test_dataset.labels):.3f}')"
   ]
  },
  {
   "cell_type": "markdown",
   "id": "d568e3ae",
   "metadata": {},
   "source": [
    "**Comparison**"
   ]
  },
  {
   "cell_type": "markdown",
   "id": "fc9c0017",
   "metadata": {},
   "source": [
    "The DNN we trained has a test accuracy of 0.583, while the decision tree has less than half of that (0.264). While both model performs better than random guesses (0.1 accuracy), there exists a huge gap between the DNN and the Decision Tree. Here are some reasons to explain the difference in performance between the two model:\n",
    "\n",
    "- The curse of dimensionality: There are simply way too many dimensions (3072 features) for the tree to make any meaningful cuts, since on high dimensionality, a lot of unrelated data looks similar. On the other hand, the DNN we trained compresses the data with 2 layers of CNN, before being passed into 2 more hidden layers to compute the decision, which allows for efficient feature extraction. \n",
    "\n",
    "- Overfitting: The decision tree is most definitely overfitting the training data, which impact its performance when evaluating on a dataset that it has not seen before. \n",
    "\n",
    "- Learning capability: Decision tree is more of an art than science. Unlike a neural network, it does not have the ability to learn and extract features such as a wing on a plane or a wheel on a truck. It simply computes the best dimension to cut that results in the highest information gain."
   ]
  },
  {
   "cell_type": "code",
   "execution_count": null,
   "id": "f729a3a8",
   "metadata": {},
   "outputs": [],
   "source": []
  }
 ],
 "metadata": {
  "kernelspec": {
   "display_name": "Python 3 (ipykernel)",
   "language": "python",
   "name": "python3"
  },
  "language_info": {
   "codemirror_mode": {
    "name": "ipython",
    "version": 3
   },
   "file_extension": ".py",
   "mimetype": "text/x-python",
   "name": "python",
   "nbconvert_exporter": "python",
   "pygments_lexer": "ipython3",
   "version": "3.9.7"
  }
 },
 "nbformat": 4,
 "nbformat_minor": 5
}
